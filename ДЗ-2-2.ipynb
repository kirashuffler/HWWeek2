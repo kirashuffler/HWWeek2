{
 "cells": [
  {
   "cell_type": "markdown",
   "metadata": {
    "collapsed": true
   },
   "source": [
    "# Домашнее задание 2 \n",
    "\n",
    "Необходимо реализовать схему, указанную в hw_diagram.pdf \n"
   ]
  },
  {
   "cell_type": "markdown",
   "metadata": {},
   "source": [
    "## Описание таблиц \n",
    "PeopleStatus - Описание возможных статусов людей, которые есть в университете (Студент, Преподаватель).\n",
    "Faculties - Описание факультетов, которые есть в университете (KIB, IT, и т.д.).\n",
    "People - Информация о людях в университете (Имя, почта, ссылка на факультет, ссылка на статус).\n",
    "Classes - Описание возможных классов в университете (название (Математический анализ) и ссылка на факультет).\n",
    "Semesters - Справочник семестров факультета(например, Осень2016, '2016-01-01', '2016-12-31').\n",
    "ClassesSchedule - Расписание классов (ссылки на семестр, преподавателя и курс, день недели, время начала).\n",
    "StudentsSchedule - Таблица, описывающая, какой студент ходит на какой курс."
   ]
  },
  {
   "cell_type": "code",
   "execution_count": 28,
   "metadata": {
    "collapsed": false
   },
   "outputs": [
    {
     "name": "stdout",
     "output_type": "stream",
     "text": [
      "The sql extension is already loaded. To reload it, use:\n",
      "  %reload_ext sql\n"
     ]
    },
    {
     "data": {
      "text/plain": [
       "'Connected: None@testdb1'"
      ]
     },
     "execution_count": 28,
     "metadata": {},
     "output_type": "execute_result"
    }
   ],
   "source": [
    "%load_ext sql\n",
    "%sql sqlite:///testdb1"
   ]
  },
  {
   "cell_type": "markdown",
   "metadata": {},
   "source": [
    "## Создание таблиц\n",
    "Напишет ниже скрипты по созданию таблиц с учетом всех внешних ключей."
   ]
  },
  {
   "cell_type": "code",
   "execution_count": 29,
   "metadata": {
    "collapsed": false
   },
   "outputs": [
    {
     "name": "stdout",
     "output_type": "stream",
     "text": [
      "0 rows affected.\n",
      "0 rows affected.\n",
      "0 rows affected.\n",
      "0 rows affected.\n",
      "0 rows affected.\n",
      "0 rows affected.\n",
      "0 rows affected.\n"
     ]
    },
    {
     "data": {
      "text/plain": [
       "[]"
      ]
     },
     "execution_count": 29,
     "metadata": {},
     "output_type": "execute_result"
    }
   ],
   "source": [
    "%%sql\n",
    "CREATE TABLE Semesters(id INTEGER,\n",
    "                       shortname VARCHAR,\n",
    "                       date_start DATE,\n",
    "                       date_end DATE,\n",
    "                       PRIMARY KEY(id));\n",
    "CREATE TABLE ClassesSchedule(id INTEGER ,\n",
    "                             class_id INTEGER,\n",
    "                             teacher_id INTEGER,\n",
    "                             semester_id INTEGER,\n",
    "                             week_day INTEGER,\n",
    "                             time_start VARCHAR,\n",
    "                             PRIMARY KEY (id));\n",
    "CREATE TABLE Classes(id INTEGER ,\n",
    "                     description VARCHAR,\n",
    "                     fac_id INTEGER,\n",
    "                     PRIMARY KEY(id));\n",
    "CREATE TABLE Faculties(id INTEGER,\n",
    "                       name VARCHAR,\n",
    "                       PRIMARY KEY(id));\n",
    "CREATE TABLE People(id INTEGER,\n",
    "                    name VARCHAR,\n",
    "                    email VARCHAR,\n",
    "                    fac_id INTEGER,\n",
    "                    status_id INTEGER,\n",
    "                    PRIMARY KEY(id));\n",
    "CREATE TABLE PeopleStatus(id INTEGER,\n",
    "                          name VARCHAR,\n",
    "                          PRIMARY KEY(id));\n",
    "CREATE TABLE StudentsSchedule(student_id INTEGER,\n",
    "                              classesschedule_id INTEGER, FOREIGN KEY(classesschedule_id) REFERENCES ClassesSchedule(id),\n",
    "                              PRIMARY KEY(student_id));"
   ]
  },
  {
   "cell_type": "markdown",
   "metadata": {},
   "source": [
    "## Добавление записей в таблицы\n",
    "Приведите примеры добавления записей в каждую из таблиц\n"
   ]
  },
  {
   "cell_type": "code",
   "execution_count": 34,
   "metadata": {
    "collapsed": false
   },
   "outputs": [
    {
     "name": "stdout",
     "output_type": "stream",
     "text": [
      "1 rows affected.\n",
      "1 rows affected.\n",
      "1 rows affected.\n",
      "1 rows affected.\n",
      "1 rows affected.\n",
      "1 rows affected.\n"
     ]
    },
    {
     "data": {
      "text/plain": [
       "[]"
      ]
     },
     "execution_count": 34,
     "metadata": {},
     "output_type": "execute_result"
    }
   ],
   "source": [
    "%%sql\n",
    "INSERT INTO Semesters VALUES('1', 'Summer 2017', '5-02-2017', '30-06-2017');\n",
    "INSERT INTO ClassesSchedule VALUES('1', '1','1','1', 'Monday', '9.00');\n",
    "INSERT INTO StudentsSchedule VALUES('1','1');\n",
    "INSERT INTO People VALUES('1','Ivan', 'ivan@mail.ru','1','1');\n",
    "INSERT INTO PeopleStatus VALUES('1', 'Student');\n",
    "INSERT INTO Faculties VALUES('1', 'Cyber');\n",
    "INSERT INTO Classes VALUES('1', 'Computer Science', '1');"
   ]
  },
  {
   "cell_type": "markdown",
   "metadata": {},
   "source": [
    "Находится ли указанная схема ниже в BCNF? Напишите ниже функциональные зависимости, которые вы считаете, есть в указанной схеме. "
   ]
  },
  {
   "cell_type": "markdown",
   "metadata": {},
   "source": []
  }
 ],
 "metadata": {
  "kernelspec": {
   "display_name": "Python 3",
   "language": "python",
   "name": "python3"
  },
  "language_info": {
   "codemirror_mode": {
    "name": "ipython",
    "version": 3
   },
   "file_extension": ".py",
   "mimetype": "text/x-python",
   "name": "python",
   "nbconvert_exporter": "python",
   "pygments_lexer": "ipython3",
   "version": "3.6.0"
  }
 },
 "nbformat": 4,
 "nbformat_minor": 2
}
